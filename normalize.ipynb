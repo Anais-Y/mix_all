{
 "cells": [
  {
   "cell_type": "code",
   "execution_count": 1,
   "metadata": {},
   "outputs": [],
   "source": [
    "import numpy as np\n",
    "data = np.load('/home/micro/Anaiis/anti_overfit/Data/SEED/len_200/smooth_False/1_20131027/data.npy')"
   ]
  },
  {
   "cell_type": "code",
   "execution_count": 2,
   "metadata": {},
   "outputs": [
    {
     "name": "stdout",
     "output_type": "stream",
     "text": [
      "(3394, 62, 5, 200)\n"
     ]
    }
   ],
   "source": [
    "print(data.shape)"
   ]
  },
  {
   "cell_type": "code",
   "execution_count": 5,
   "metadata": {},
   "outputs": [],
   "source": [
    "mean = np.mean(data, axis=3, keepdims=True)\n",
    "std = np.std(data, axis=3, keepdims=True)\n",
    "standardized_data = (data - mean) / std\n",
    "\n",
    "np.save('/home/micro/Anaiis/anti_overfit/Data/SEED/norme_cnn/data.npy', standardized_data)\n"
   ]
  },
  {
   "cell_type": "code",
   "execution_count": 4,
   "metadata": {},
   "outputs": [],
   "source": [
    "min_val = np.min(data, axis=3, keepdims=True)\n",
    "max_val = np.max(data, axis=3, keepdims=True)\n",
    "normalized_data = ((data - min_val) / (max_val - min_val))*2. - 1.\n",
    "np.save('/home/micro/Anaiis/anti_overfit/Data/SEED/norme_cnn/data.npy', normalized_data)\n"
   ]
  },
  {
   "cell_type": "code",
   "execution_count": null,
   "metadata": {},
   "outputs": [],
   "source": []
  }
 ],
 "metadata": {
  "kernelspec": {
   "display_name": "bob_env1",
   "language": "python",
   "name": "python3"
  },
  "language_info": {
   "codemirror_mode": {
    "name": "ipython",
    "version": 3
   },
   "file_extension": ".py",
   "mimetype": "text/x-python",
   "name": "python",
   "nbconvert_exporter": "python",
   "pygments_lexer": "ipython3",
   "version": "3.8.19"
  }
 },
 "nbformat": 4,
 "nbformat_minor": 2
}
